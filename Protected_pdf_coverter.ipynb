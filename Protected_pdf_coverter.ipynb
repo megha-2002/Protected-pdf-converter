{
  "nbformat": 4,
  "nbformat_minor": 0,
  "metadata": {
    "colab": {
      "provenance": [],
      "authorship_tag": "ABX9TyMJ8kUiE4EnTbbldvTqf8Dy",
      "include_colab_link": true
    },
    "kernelspec": {
      "name": "python3",
      "display_name": "Python 3"
    },
    "language_info": {
      "name": "python"
    }
  },
  "cells": [
    {
      "cell_type": "markdown",
      "metadata": {
        "id": "view-in-github",
        "colab_type": "text"
      },
      "source": [
        "<a href=\"https://colab.research.google.com/github/megha-2002/Protected-pdf-converter/blob/main/Protected_pdf_coverter.ipynb\" target=\"_parent\"><img src=\"https://colab.research.google.com/assets/colab-badge.svg\" alt=\"Open In Colab\"/></a>"
      ]
    },
    {
      "cell_type": "code",
      "execution_count": 1,
      "metadata": {
        "colab": {
          "base_uri": "https://localhost:8080/"
        },
        "id": "P-Kxam5Yz0N4",
        "outputId": "4c41f65b-9861-4023-c92a-e4cb777c0782"
      },
      "outputs": [
        {
          "output_type": "stream",
          "name": "stdout",
          "text": [
            "Requirement already satisfied: pikepdf in /usr/local/lib/python3.10/dist-packages (8.13.0)\n",
            "Requirement already satisfied: Pillow>=10.0.1 in /usr/local/lib/python3.10/dist-packages (from pikepdf) (10.2.0)\n",
            "Requirement already satisfied: Deprecated in /usr/local/lib/python3.10/dist-packages (from pikepdf) (1.2.14)\n",
            "Requirement already satisfied: packaging in /usr/local/lib/python3.10/dist-packages (from pikepdf) (23.2)\n",
            "Requirement already satisfied: lxml>=4.8 in /usr/local/lib/python3.10/dist-packages (from pikepdf) (4.9.4)\n",
            "Requirement already satisfied: wrapt<2,>=1.10 in /usr/local/lib/python3.10/dist-packages (from Deprecated->pikepdf) (1.14.1)\n",
            "Requirement already satisfied: python-magic in /usr/local/lib/python3.10/dist-packages (0.4.27)\n"
          ]
        }
      ],
      "source": [
        "!pip install pikepdf\n",
        "!pip install python-magic"
      ]
    },
    {
      "cell_type": "code",
      "source": [
        "from google.colab import drive\n",
        "import pikepdf\n",
        "import os\n",
        "import glob\n",
        "import magic\n"
      ],
      "metadata": {
        "id": "NBe0o-qez6Tz"
      },
      "execution_count": null,
      "outputs": []
    },
    {
      "cell_type": "code",
      "source": [
        "drive.mount('/content/drive')\n",
        "\n",
        "old_pdf_dir = '/content/drive/MyDrive/YourFolderName'\n",
        "new_pdf_dir = '/content/drive/MyDrive/YourNewFolderName'\n",
        "\n",
        "pdf_pass = ['pwd1', 'pwd2']\n",
        "\n",
        "if not os.path.exists(new_pdf_dir):\n",
        "  os.makedirs(new_pdf_dir)\n",
        "\n",
        "def is_pdf_file(filename):\n",
        "    file_type = magic.from_file(filename, mime=True)\n",
        "    return file_type == 'application/pdf'\n",
        "\n",
        "def run():\n",
        "  # Iterate over each PDF file in the directory\n",
        "  for filename in os.listdir(old_pdf_dir):\n",
        "\n",
        "    pdf_path = os.path.join(old_pdf_dir, filename)\n",
        "    pdf_name = os.path.splitext(filename)[0]\n",
        "\n",
        "    if not is_pdf_file(pdf_path):\n",
        "      continue\n",
        "\n",
        "    for password in pdf_pass:\n",
        "      try:\n",
        "        pdf = pikepdf.open(pdf_path, password=password)\n",
        "        print(f\"Password successfully decrypted for {filename}.\")\n",
        "        pdf.save(os.path.join(new_pdf_dir, pdf_name + '.pdf'))\n",
        "        print(f\"The password successfully removed from {filename}.\")\n",
        "        print(\"Location: \" + os.path.join(new_pdf_dir, pdf_name + '.pdf'))\n",
        "        break\n",
        "      except pikepdf.PasswordError:\n",
        "        print(f\"Incorrect password for {filename}: '{password}', trying next one...\")\n",
        "      else:\n",
        "        print(f\"Unable to decrypt {filename} with provided passwords.\")\n"
      ],
      "metadata": {
        "id": "yILogoN9z9jF"
      },
      "execution_count": null,
      "outputs": []
    },
    {
      "cell_type": "code",
      "source": [
        "run()"
      ],
      "metadata": {
        "id": "lCfTL1w_0Db2"
      },
      "execution_count": null,
      "outputs": []
    }
  ]
}